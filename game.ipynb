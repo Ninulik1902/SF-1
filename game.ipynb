{
 "cells": [
  {
   "cell_type": "markdown",
   "metadata": {},
   "source": [
    "# Игра угадай число"
   ]
  },
  {
   "cell_type": "code",
   "execution_count": 3,
   "metadata": {},
   "outputs": [],
   "source": [
    "from game_v2 import score_game\n",
    "from game_v2 import random_predict"
   ]
  },
  {
   "cell_type": "markdown",
   "metadata": {},
   "source": [
    "## Угадываем рандомно"
   ]
  },
  {
   "cell_type": "code",
   "execution_count": 1,
   "metadata": {},
   "outputs": [],
   "source": [
    "from game_v2 import score_game\n",
    "from game_v2 import random_predict"
   ]
  },
  {
   "cell_type": "code",
   "execution_count": 4,
   "metadata": {},
   "outputs": [
    {
     "name": "stdout",
     "output_type": "stream",
     "text": [
      "Ваш алгоритм угадывает число в среднем за:5 попыток\n"
     ]
    }
   ],
   "source": [
    "from game_v2 import score_game\n",
    "\n",
    "def game_core_v4(number: int = 1) -> int:\n",
    "    \"\"\"\n",
    "    Функция для угадывания числа бинарным поиском.\n",
    "\n",
    "    Args:\n",
    "        number (int, optional): Загаданное число. По умолчанию 1.\n",
    "\n",
    "    Returns:\n",
    "        int: Число попыток, необходимых для угадывания числа.\n",
    "    \"\"\"\n",
    "    count = 1  # Начинаем считать попытки с 1\n",
    "\n",
    "    left = 1\n",
    "    right = 100\n",
    "    while left <= right:\n",
    "        predict = (left + right) // 2\n",
    "        if predict == number:\n",
    "            break\n",
    "        elif predict < number:\n",
    "            left = predict + 1\n",
    "        else:\n",
    "            right = predict - 1\n",
    "        count += 1\n",
    "\n",
    "    return count\n",
    "\n",
    "if __name__ == \"__main__\":\n",
    "    # Запускаем игру\n",
    "    score_game(game_core_v4)\n"
   ]
  }
 ],
 "metadata": {
  "kernelspec": {
   "display_name": "Python 3",
   "language": "python",
   "name": "python3"
  },
  "language_info": {
   "codemirror_mode": {
    "name": "ipython",
    "version": 3
   },
   "file_extension": ".py",
   "mimetype": "text/x-python",
   "name": "python",
   "nbconvert_exporter": "python",
   "pygments_lexer": "ipython3",
   "version": "3.9.10"
  },
  "orig_nbformat": 4
 },
 "nbformat": 4,
 "nbformat_minor": 2
}
